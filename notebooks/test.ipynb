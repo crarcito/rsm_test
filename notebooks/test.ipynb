{
 "cells": [
  {
   "cell_type": "code",
   "execution_count": 1,
   "id": "01393bc5",
   "metadata": {},
   "outputs": [
    {
     "name": "stdout",
     "output_type": "stream",
     "text": [
      "sk-FCrlvVt6RHhssSwmrbrEIZkU6z4wwRf4FRYaBfbujUT3BlbkFJpi_RjMWkfq_lqiYADB-b08j_15--BpMH1zeQdM5c8A\n"
     ]
    }
   ],
   "source": [
    "# load environment variables\n",
    "import os\n",
    "from dotenv import load_dotenv\n",
    "\n",
    "load_dotenv()\n",
    "OPENAI_API_KEY = os.getenv('OPENAI_API_KEY')\n",
    "print(os.environ[\"OPENAI_API_KEY\"])"
   ]
  },
  {
   "cell_type": "code",
   "execution_count": 2,
   "id": "b8618c1a",
   "metadata": {},
   "outputs": [
    {
     "name": "stderr",
     "output_type": "stream",
     "text": [
      "USER_AGENT environment variable not set, consider setting it to identify your requests.\n"
     ]
    }
   ],
   "source": [
    "from langchain.document_loaders import WebBaseLoader\n",
    "from langchain.text_splitter import RecursiveCharacterTextSplitter\n",
    "from langchain.embeddings import OpenAIEmbeddings\n",
    "from langchain.vectorstores import FAISS"
   ]
  },
  {
   "cell_type": "code",
   "execution_count": 3,
   "id": "9948c670",
   "metadata": {},
   "outputs": [
    {
     "name": "stderr",
     "output_type": "stream",
     "text": [
      "C:\\Users\\crara\\AppData\\Local\\Temp\\ipykernel_4344\\3854815824.py:12: LangChainDeprecationWarning: The class `OpenAIEmbeddings` was deprecated in LangChain 0.0.9 and will be removed in 1.0. An updated version of the class exists in the :class:`~langchain-openai package and should be used instead. To use it run `pip install -U :class:`~langchain-openai` and import as `from :class:`~langchain_openai import OpenAIEmbeddings``.\n",
      "  embeddings = OpenAIEmbeddings()\n"
     ]
    }
   ],
   "source": [
    "urls = [\n",
    "        \"https://allendowney.github.io/ThinkPython/index.html\",\n",
    "        \"https://peps.python.org/pep-0008/\"\n",
    "    ]\n",
    "loader = WebBaseLoader(urls)\n",
    "docs = loader.load()\n",
    "\n",
    "# print(docs[0].page_content[:5000])  # Print first 500 characters of the first document\n",
    "\n",
    "splitter = RecursiveCharacterTextSplitter(chunk_size=1000, chunk_overlap=100)\n",
    "chunks = splitter.split_documents(docs)\n",
    "embeddings = OpenAIEmbeddings()\n",
    "db = FAISS.from_documents(chunks, embeddings)\n",
    "db.save_local(\"vector_index\")\n",
    "\n",
    "# embeddings = OpenAIEmbeddings()\n",
    "# vectorstore = FAISS.from_documents(chunks, embeddings)\n",
    "\n",
    "# retriever = vectorstore.as_retriever(search_kwargs={\"k\": 20})\n",
    "\n",
    "# question = \"Qué es thinking?\"\n",
    "# docs = retriever.invoke(question)\n",
    "\n",
    "# print(docs)\n",
    "# vectorstore.save_local(\"vector_index\")\n",
    "\n",
    "# print(vectorstore)\n",
    "\n",
    "\n"
   ]
  },
  {
   "cell_type": "code",
   "execution_count": 13,
   "id": "710cdccd",
   "metadata": {},
   "outputs": [],
   "source": [
    "from langchain.vectorstores import FAISS\n",
    "from langchain.chat_models import ChatOpenAI\n",
    "\n",
    "\n",
    "from langchain.chains import RetrievalQA\n",
    "from langchain.prompts import PromptTemplate\n",
    "from langchain.callbacks import LangChainTracer\n",
    "from langchain.embeddings import OpenAIEmbeddings"
   ]
  },
  {
   "cell_type": "code",
   "execution_count": 11,
   "id": "13ab8412",
   "metadata": {},
   "outputs": [
    {
     "name": "stdout",
     "output_type": "stream",
     "text": [
      "sk-FCrlvVt6RHhssSwmrbrEIZkU6z4wwRf4FRYaBfbujUT3BlbkFJpi_RjMWkfq_lqiYADB-b08j_15--BpMH1zeQdM5c8A\n"
     ]
    }
   ],
   "source": [
    "from config import config\n",
    "config = config['development']\n",
    "aa = config.OPENAI_API_KEY\n",
    "print(aa)"
   ]
  },
  {
   "cell_type": "code",
   "execution_count": null,
   "id": "e9d59407",
   "metadata": {},
   "outputs": [],
   "source": [
    "# db = FAISS.load_local(\"vector_index\", OpenAIEmbeddings())\n",
    "db = FAISS.load_local(\"vector_index\", OpenAIEmbeddings(), allow_dangerous_deserialization=True)\n",
    "retriever = db.as_retriever(search_type=\"similarity\", search_kwargs={\"k\": 5})\n",
    "\n",
    "llm = ChatOpenAI(model=\"gpt-4o-mini\", temperature=0.1, openai_api_key=config.OPENAI_API_KEY)\n",
    "print(llm)\n",
    "qa_chain = RetrievalQA.from_chain_type(llm=llm, retriever=retriever)\n",
    "print(qa_chain)\n",
    "\n",
    "question = \"Qué es thinking?\"\n",
    "result = qa_chain.run(question)\n",
    "print(result)\n",
    "sources = retriever.get_relevant_documents(question)\n",
    "print(\"Sources:\")\n",
    "for source in sources:\n",
    "    print(source.metadata.get(\"source\", \"No source metadata available\"))\n",
    "    print(source.page_content[:500])  # Print first 500 characters of the source content\n"
   ]
  },
  {
   "cell_type": "code",
   "execution_count": 9,
   "id": "f0d5da12",
   "metadata": {},
   "outputs": [
    {
     "name": "stdout",
     "output_type": "stream",
     "text": [
      "¿Se guardó correctamente? True\n",
      "Valor en Redis: CRAR\n"
     ]
    }
   ],
   "source": [
    "from config import config\n",
    "import redis\n",
    "\n",
    "config = config['development']\n",
    "OPENAI_API_KEY = config.OPENAI_API_KEY\n",
    "REDIS_URL = config.REDIS_URL\n",
    "REDIS_PORT = config.REDIS_PORT\n",
    "REDIS_USERNAME = config.REDIS_USERNAME\n",
    "REDIS_PASSWORD = config.REDIS_PASSWORD\n",
    "\n",
    "# print(REDIS_URL, REDIS_PORT, REDIS_USERNAME, REDIS_PASSWORD)\n",
    "\n",
    "\n",
    "r = redis.Redis(\n",
    "        host=REDIS_URL,\n",
    "        port=REDIS_PORT,\n",
    "        decode_responses=True,\n",
    "        username=REDIS_USERNAME,\n",
    "        password=REDIS_PASSWORD,\n",
    "    )\n",
    "\n",
    "\n",
    "success = r.set('foo', 'CRAR')\n",
    "print(\"¿Se guardó correctamente?\", success)\n",
    "print(\"Valor en Redis:\", r.get('foo'))\n"
   ]
  }
 ],
 "metadata": {
  "kernelspec": {
   "display_name": "rsm_test",
   "language": "python",
   "name": "python3"
  },
  "language_info": {
   "codemirror_mode": {
    "name": "ipython",
    "version": 3
   },
   "file_extension": ".py",
   "mimetype": "text/x-python",
   "name": "python",
   "nbconvert_exporter": "python",
   "pygments_lexer": "ipython3",
   "version": "3.11.13"
  }
 },
 "nbformat": 4,
 "nbformat_minor": 5
}
