{
 "cells": [
  {
   "cell_type": "code",
   "execution_count": 3,
   "id": "9a825d37",
   "metadata": {},
   "outputs": [],
   "source": [
    "import chromadb"
   ]
  },
  {
   "cell_type": "code",
   "execution_count": null,
   "id": "c0f53528",
   "metadata": {},
   "outputs": [
    {
     "name": "stdout",
     "output_type": "stream",
     "text": [
      "ChromaDB client connected successfully.\n",
      "<chromadb.api.client.Client object at 0x000001BC7F6BB750>\n"
     ]
    }
   ],
   "source": [
    "try:\n",
    "    chroma_client = chromadb.PersistentClient(path=\"../data/chroma_db\")\n",
    "\n",
    "    print(\"ChromaDB client connected successfully.\")\n",
    "\n",
    "except Exception as e:\n",
    "    print(f\"Error connecting to ChromaDB: {e}\")\n",
    "    chroma_client = None\n"
   ]
  },
  {
   "cell_type": "code",
   "execution_count": 8,
   "id": "40000ab2",
   "metadata": {},
   "outputs": [
    {
     "name": "stdout",
     "output_type": "stream",
     "text": [
      "Collection(name=test_collection)\n"
     ]
    }
   ],
   "source": [
    "collection = chroma_client.get_collection(name=\"test_collection\")\n",
    "\n",
    "print(collection)"
   ]
  },
  {
   "cell_type": "code",
   "execution_count": 7,
   "id": "ef8e7ea8",
   "metadata": {},
   "outputs": [
    {
     "data": {
      "text/plain": [
       "{'ids': [['id1', 'id2']],\n",
       " 'embeddings': None,\n",
       " 'documents': [['\\nAlexandra Thompson, a 19-year-old computer science sophomore with a 3.7 GPA,\\nis a member of the programming and chess clubs who enjoys pizza, swimming, and hiking\\nin her free time in hopes of working at a tech company after graduating from the University of Washington.\\n',\n",
       "   \"\\nThe university chess club provides an outlet for students to come together and enjoy playing\\nthe classic strategy game of chess. Members of all skill levels are welcome, from beginners learning\\nthe rules to experienced tournament players. The club typically meets a few times per week to play casual games,\\nparticipate in tournaments, analyze famous chess matches, and improve members' skills.\\n\"]],\n",
       " 'uris': None,\n",
       " 'included': ['metadatas', 'documents', 'distances'],\n",
       " 'data': None,\n",
       " 'metadatas': [[{'source': 'student info'}, {'source': 'club info'}]],\n",
       " 'distances': [[0.6473333835601807, 0.6977015137672424]]}"
      ]
     },
     "execution_count": 7,
     "metadata": {},
     "output_type": "execute_result"
    }
   ],
   "source": [
    "results = collection.query(\n",
    "    query_texts=[\"What is the student name?\"],\n",
    "    n_results=2\n",
    ")\n",
    "\n",
    "results"
   ]
  }
 ],
 "metadata": {
  "kernelspec": {
   "display_name": "venv",
   "language": "python",
   "name": "python3"
  },
  "language_info": {
   "codemirror_mode": {
    "name": "ipython",
    "version": 3
   },
   "file_extension": ".py",
   "mimetype": "text/x-python",
   "name": "python",
   "nbconvert_exporter": "python",
   "pygments_lexer": "ipython3",
   "version": "3.13.5"
  }
 },
 "nbformat": 4,
 "nbformat_minor": 5
}
