{
 "cells": [
  {
   "cell_type": "code",
   "execution_count": 4,
   "id": "5edf7070",
   "metadata": {},
   "outputs": [],
   "source": [
    "import chromadb\n",
    "from chromadb import Settings"
   ]
  },
  {
   "cell_type": "code",
   "execution_count": 5,
   "id": "c1ca9c3c",
   "metadata": {},
   "outputs": [
    {
     "name": "stdout",
     "output_type": "stream",
     "text": [
      "<chromadb.api.client.Client object at 0x000001CCD78C7B60>\n"
     ]
    }
   ],
   "source": [
    "chroma_client = chromadb.PersistentClient(\n",
    "    path=\"../data/chroma_db\",\n",
    "    settings=chromadb.Settings(allow_reset=True))\n",
    "print(chroma_client)"
   ]
  },
  {
   "cell_type": "code",
   "execution_count": null,
   "id": "52c4b6ea",
   "metadata": {},
   "outputs": [],
   "source": [
    "collection = chroma_client.create_collection(\n",
    "    name=\"test_collection\",\n",
    "    metadata={\"hnsw:space\": \"cosine\"}\n",
    ")"
   ]
  },
  {
   "cell_type": "code",
   "execution_count": 8,
   "id": "27d5c8f3",
   "metadata": {},
   "outputs": [],
   "source": [
    "collection = chroma_client.get_collection(name=\"test_collection\")"
   ]
  },
  {
   "cell_type": "code",
   "execution_count": 11,
   "id": "c1bd0ca4",
   "metadata": {},
   "outputs": [
    {
     "name": "stdout",
     "output_type": "stream",
     "text": [
      "2\n"
     ]
    }
   ],
   "source": [
    "print(collection.count()) "
   ]
  },
  {
   "cell_type": "code",
   "execution_count": 6,
   "id": "190de71a",
   "metadata": {},
   "outputs": [],
   "source": [
    "student_info = \"\"\"\n",
    "Alexandra Thompson, a 19-year-old computer science sophomore with a 3.7 GPA,\n",
    "is a member of the programming and chess clubs who enjoys pizza, swimming, and hiking\n",
    "in her free time in hopes of working at a tech company after graduating from the University of Washington.\n",
    "\"\"\"\n",
    "\n",
    "club_info = \"\"\"\n",
    "The university chess club provides an outlet for students to come together and enjoy playing\n",
    "the classic strategy game of chess. Members of all skill levels are welcome, from beginners learning\n",
    "the rules to experienced tournament players. The club typically meets a few times per week to play casual games,\n",
    "participate in tournaments, analyze famous chess matches, and improve members' skills.\n",
    "\"\"\""
   ]
  },
  {
   "cell_type": "code",
   "execution_count": 7,
   "id": "e2159882",
   "metadata": {},
   "outputs": [],
   "source": [
    "collection.add(\n",
    "    documents = [student_info, club_info],\n",
    "    metadatas = [{\"source\": \"student info\"},{\"source\": \"club info\"}],\n",
    "    ids = [\"id1\", \"id2\"]\n",
    ")"
   ]
  },
  {
   "cell_type": "code",
   "execution_count": 7,
   "id": "54e486f5",
   "metadata": {},
   "outputs": [
    {
     "ename": "NameError",
     "evalue": "name 'collection' is not defined",
     "output_type": "error",
     "traceback": [
      "\u001b[31m---------------------------------------------------------------------------\u001b[39m",
      "\u001b[31mNameError\u001b[39m                                 Traceback (most recent call last)",
      "\u001b[36mCell\u001b[39m\u001b[36m \u001b[39m\u001b[32mIn[7]\u001b[39m\u001b[32m, line 1\u001b[39m\n\u001b[32m----> \u001b[39m\u001b[32m1\u001b[39m results = \u001b[43mcollection\u001b[49m.query(\n\u001b[32m      2\u001b[39m     query_texts=[\u001b[33m\"\u001b[39m\u001b[33mWhat is the student name?\u001b[39m\u001b[33m\"\u001b[39m],\n\u001b[32m      3\u001b[39m     n_results=\u001b[32m2\u001b[39m\n\u001b[32m      4\u001b[39m )\n\u001b[32m      6\u001b[39m results\n",
      "\u001b[31mNameError\u001b[39m: name 'collection' is not defined"
     ]
    }
   ],
   "source": [
    "results = collection.query(\n",
    "    query_texts=[\"What is the student name?\"],\n",
    "    n_results=2\n",
    ")\n",
    "\n",
    "results"
   ]
  },
  {
   "cell_type": "code",
   "execution_count": 9,
   "id": "938164f8",
   "metadata": {},
   "outputs": [
    {
     "data": {
      "text/plain": [
       "2"
      ]
     },
     "execution_count": 9,
     "metadata": {},
     "output_type": "execute_result"
    }
   ],
   "source": [
    "collection.count()"
   ]
  },
  {
   "cell_type": "code",
   "execution_count": 5,
   "id": "7950434e",
   "metadata": {},
   "outputs": [],
   "source": [
    "documents = [\n",
    "    \"Winter is coming.\",\n",
    "    \"The North remembers.\",\n",
    "    \"A Lannister always pays his debts.\",\n",
    "    \"When you play the game of thrones, you win or you die.\",\n",
    "    \"The night is dark and full of terrors.\",\n",
    "    \"Today is cold\",\n",
    "    \"Tomorrow will be colder\",\n",
    "    \"I like running\",\n",
    "    \"The snow is white\",\n",
    "]\n",
    "\n"
   ]
  },
  {
   "cell_type": "code",
   "execution_count": null,
   "id": "68620302",
   "metadata": {},
   "outputs": [
    {
     "name": "stderr",
     "output_type": "stream",
     "text": [
      "C:\\Users\\crara\\.cache\\chroma\\onnx_models\\all-MiniLM-L6-v2\\onnx.tar.gz: 100%|██████████| 79.3M/79.3M [00:04<00:00, 16.9MiB/s]\n"
     ]
    }
   ],
   "source": [
    "collection.add(\n",
    "    documents=documents,\n",
    "    metadatas=[{\"source\": \"weather\"}, {\"source\": \"weather\"},\n",
    "                {\"source\": \"finance\"}, {\"source\": \"finance\"},\n",
    "                {\"source\": \"religion\"}, {\"source\": \"weather\"},\n",
    "                {\"source\": \"weather\"}, {\"source\": \"sports\"}, \n",
    "                {\"source\": \"weather\"}],\n",
    "    ids=[\"doc1\", \"doc2\", \"doc3\", \"doc4\", \"doc5\", \"doc6\", \"doc7\", \"doc8\", \"doc9\"],\n",
    ")"
   ]
  },
  {
   "cell_type": "code",
   "execution_count": 8,
   "id": "acca7be7",
   "metadata": {},
   "outputs": [],
   "source": [
    "import sqlite3\n",
    "import numpy as np"
   ]
  },
  {
   "cell_type": "code",
   "execution_count": 21,
   "id": "d849751a",
   "metadata": {},
   "outputs": [
    {
     "name": "stdout",
     "output_type": "stream",
     "text": [
      "Connected to the database successfully.\n"
     ]
    }
   ],
   "source": [
    "try:\n",
    "    conn = sqlite3.connect('chroma_db/chroma.sqlite3')\n",
    "    cursor = conn.cursor()\n",
    "    \n",
    "    print(\"Connected to the database successfully.\")\n",
    "except sqlite3.Error as e:\n",
    "    print(f\"SQLite error: {e}\")\n"
   ]
  },
  {
   "cell_type": "code",
   "execution_count": 31,
   "id": "16d1ca47",
   "metadata": {},
   "outputs": [
    {
     "name": "stdout",
     "output_type": "stream",
     "text": [
      "Vector for doc3: [-0.00354729  0.0325117  -0.00818166 -0.01966406 -0.05459889]\n"
     ]
    }
   ],
   "source": [
    "cursor.execute(\"SELECT vector FROM embeddings_queue where id = 'doc3'\")\n",
    "result = cursor.fetchall()\n",
    "\n",
    "for row in result:\n",
    "    blob_data = row[0]\n",
    "\n",
    "    vector_bytes = bytes(blob_data)\n",
    "    vector_array = np.frombuffer(vector_bytes, dtype=np.float32)\n",
    "\n",
    "    # print(\"Vector for doc3:\", vector_array)\n",
    "    print(\"Vector for doc3:\", vector_array[0:5])\n",
    "\n",
    "    # vector = np.frombuffer(row[0], dtype=np.float32)\n",
    "    # print(\"Vector for doc3:\", vector)\n",
    "\n"
   ]
  },
  {
   "cell_type": "code",
   "execution_count": null,
   "id": "283a0c50",
   "metadata": {},
   "outputs": [],
   "source": [
    "embedding_id2 = collection.get(\n",
    "    ids=[\"doc3\"],\n",
    "    include= [\"embeddings\"])\n",
    "\n",
    "print(embedding_id2)\n"
   ]
  },
  {
   "cell_type": "code",
   "execution_count": 45,
   "id": "ca534b31",
   "metadata": {},
   "outputs": [
    {
     "name": "stdout",
     "output_type": "stream",
     "text": [
      "{'ids': [['doc6', 'doc7']], 'embeddings': None, 'documents': [['Today is cold', 'Tomorrow will be colder']], 'uris': None, 'included': ['documents'], 'data': None, 'metadatas': None, 'distances': None}\n"
     ]
    }
   ],
   "source": [
    "results = collection.query(\n",
    "    query_texts=[\"What is the weather like?\"],\n",
    "    n_results=2,\n",
    "    include=[\"documents\"]\n",
    ")\n",
    "print(results)"
   ]
  },
  {
   "cell_type": "code",
   "execution_count": 52,
   "id": "4b05e022",
   "metadata": {},
   "outputs": [
    {
     "name": "stdout",
     "output_type": "stream",
     "text": [
      "['Today is cold', 'Tomorrow will be colder']\n",
      "🔹 Documento 1:\n",
      "Today is cold\n",
      "------------------------------------------------------------\n",
      "\n",
      "🔹 Documento 2:\n",
      "Tomorrow will be colder\n",
      "------------------------------------------------------------\n",
      "\n"
     ]
    }
   ],
   "source": [
    "print(results[\"documents\"][0])\n",
    "\n",
    "docs = results[\"documents\"][0]\n",
    "for i, doc in enumerate(docs, 1):\n",
    "        print(f\"🔹 Documento {i}:\\n{doc[:500]}\\n{'-'*60}\\n\")"
   ]
  },
  {
   "cell_type": "code",
   "execution_count": null,
   "id": "1366215e",
   "metadata": {},
   "outputs": [],
   "source": [
    "chroma_client_db = chromadb.PersistentClient(\n",
    "    path=\"./chroma_db\",\n",
    "    settings=chromadb.Settings(allow_reset=True))"
   ]
  },
  {
   "cell_type": "code",
   "execution_count": 48,
   "id": "475d5959",
   "metadata": {},
   "outputs": [
    {
     "name": "stdout",
     "output_type": "stream",
     "text": [
      "[['Today is cold', 'Tomorrow will be colder']]\n"
     ]
    }
   ],
   "source": [
    "collection2 = chroma_client.get_collection(name=\"my_collection\")\n",
    "\n",
    "results = collection2.query(\n",
    "    query_texts=[\"What is the weather like?\"],\n",
    "    n_results=2,\n",
    "    include=[\"documents\"]\n",
    ")\n",
    "print(results[\"documents\"])"
   ]
  },
  {
   "cell_type": "code",
   "execution_count": null,
   "id": "5f334cff",
   "metadata": {},
   "outputs": [],
   "source": [
    "conn.close()\n",
    "print(\"Connection closed.\")"
   ]
  }
 ],
 "metadata": {
  "kernelspec": {
   "display_name": "venv",
   "language": "python",
   "name": "python3"
  },
  "language_info": {
   "codemirror_mode": {
    "name": "ipython",
    "version": 3
   },
   "file_extension": ".py",
   "mimetype": "text/x-python",
   "name": "python",
   "nbconvert_exporter": "python",
   "pygments_lexer": "ipython3",
   "version": "3.13.5"
  }
 },
 "nbformat": 4,
 "nbformat_minor": 5
}
